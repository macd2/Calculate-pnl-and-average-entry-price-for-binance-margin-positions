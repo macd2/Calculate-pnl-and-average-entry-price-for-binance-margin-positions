{
  "nbformat": 4,
  "nbformat_minor": 0,
  "metadata": {
    "colab": {
      "name": "Average_entry_exit_and_pnl_calculator_binance_margin.ipynb",
      "provenance": [],
      "collapsed_sections": []
    },
    "kernelspec": {
      "name": "python3",
      "display_name": "Python 3"
    },
    "language_info": {
      "name": "python"
    }
  },
  "cells": [
    {
      "cell_type": "markdown",
      "metadata": {
        "id": "uk0yR2M3f1TK"
      },
      "source": [
        "Python script to retrieve the PnL of open margen possitions on Binance.\n",
        "Right now the script only works for USDT pairs."
      ]
    },
    {
      "cell_type": "markdown",
      "metadata": {
        "id": "14e3g9_cfxfS"
      },
      "source": [
        ""
      ]
    },
    {
      "cell_type": "code",
      "metadata": {
        "id": "aSpdYxPLsM4A"
      },
      "source": [
        "# https://python-binance.readthedocs.io/en/latest/margin.html#id12\n",
        "try:\n",
        "  from binance.client import Client\n",
        "except Exception as e:\n",
        "  !pip install python-binance\n",
        "  from binance.client import Client"
      ],
      "execution_count": 48,
      "outputs": []
    },
    {
      "cell_type": "code",
      "metadata": {
        "id": "WvriIEWo1AL8"
      },
      "source": [
        "import time\n",
        "import pandas as pd"
      ],
      "execution_count": 49,
      "outputs": []
    },
    {
      "cell_type": "code",
      "metadata": {
        "id": "-xsvTKunnxmj"
      },
      "source": [
        "key = 'YourApiKey'\n",
        "sec = 'YourApiSecret'"
      ],
      "execution_count": 50,
      "outputs": []
    },
    {
      "cell_type": "code",
      "metadata": {
        "id": "u0uI9xgZsUPz"
      },
      "source": [
        "client = Client(key, sec)"
      ],
      "execution_count": 51,
      "outputs": []
    },
    {
      "cell_type": "code",
      "metadata": {
        "id": "_P8euqZ6sfwI"
      },
      "source": [
        "info = client.get_margin_account()"
      ],
      "execution_count": 52,
      "outputs": []
    },
    {
      "cell_type": "code",
      "metadata": {
        "id": "iYJBtxZVs1Wz"
      },
      "source": [
        "holdings = [i for i in info['userAssets'] if float(i['netAsset']) > 0]\n",
        "# holdings"
      ],
      "execution_count": 53,
      "outputs": []
    },
    {
      "cell_type": "code",
      "metadata": {
        "colab": {
          "base_uri": "https://localhost:8080/"
        },
        "id": "JRhSg5NItjWv",
        "outputId": "6158c057-e7fc-4f03-8371-2d768aaecb1a"
      },
      "source": [
        "assets = [i['asset'] for i in holdings]\n",
        "assets"
      ],
      "execution_count": 54,
      "outputs": [
        {
          "output_type": "execute_result",
          "data": {
            "text/plain": [
              "['DOGE', 'DASH', 'LINK', 'SOL', 'BNB', 'ETH', 'ADA']"
            ]
          },
          "metadata": {
            "tags": []
          },
          "execution_count": 54
        }
      ]
    },
    {
      "cell_type": "code",
      "metadata": {
        "id": "Wzujyod0fbiq"
      },
      "source": [
        "# The trades pairs\n",
        "quote_currency = 'USDT'"
      ],
      "execution_count": 55,
      "outputs": []
    },
    {
      "cell_type": "code",
      "metadata": {
        "id": "HtPhFJKuzqgC"
      },
      "source": [
        "# trades = client.get_margin_trades(symbol = f'ADA{quote_currency}') \n",
        "# trades\n",
        "#  'isBuyer': True, = a buy\n",
        "#  'isBuyer': False, = a sell"
      ],
      "execution_count": 56,
      "outputs": []
    },
    {
      "cell_type": "code",
      "metadata": {
        "id": "mruCXE9WWRXk"
      },
      "source": [
        "def get_entry_order(trades, current_amount):\n",
        "  # Find the entry order so the first buy order for the current possition\n",
        "  x = current_amount\n",
        "  entry_order_id = None\n",
        "\n",
        "  for i in trades[::-1]: # reverse the list\n",
        "    if i['isBuyer']:\n",
        "      x -= float(i['qty']) \n",
        "    elif i['isBuyer'] is False:\n",
        "      x += float(i['qty'])\n",
        "    if x <= 0.1:   \n",
        "      entry_order_id = i['id']\n",
        "      # print(f\"Entry Order ID: {entry_order_id}\")\n",
        "      return entry_order_id"
      ],
      "execution_count": 57,
      "outputs": []
    },
    {
      "cell_type": "code",
      "metadata": {
        "id": "IhrkNkikYHvD"
      },
      "source": [
        "def slice_trades_to_entry_order(trades, entry_order_id):\n",
        "  # Find the index of the entry order for current possition in the trades list\n",
        "  for i, v in enumerate(trades):\n",
        "      if int(v['id']) == int(entry_order_id):\n",
        "        return trades[i:]"
      ],
      "execution_count": 58,
      "outputs": []
    },
    {
      "cell_type": "code",
      "metadata": {
        "id": "I72ufgxbtu3D"
      },
      "source": [
        "my_finance = []\n",
        "for asset in assets:\n",
        "  print('Asset:', asset)\n",
        "\n",
        "  trades = client.get_margin_trades(symbol = f'{asset}{quote_currency}') \n",
        "  total_Amount = float([i['netAsset'] for i in holdings if i['asset'] == asset][0])\n",
        "  entry_order_id = get_entry_order(trades, total_Amount)\n",
        "  if not entry_order_id:\n",
        "    # print(trades)\n",
        "    continue\n",
        "  trades_ = slice_trades_to_entry_order(trades, entry_order_id)\n",
        "  cost = 0\n",
        "\n",
        "  for i in trades_:\n",
        "    if i['isBuyer']:\n",
        "      # total_Amount += float(i['qty'])\n",
        "      cost += float(i['qty']) * float(i['price'])\n",
        "    elif i['isBuyer'] is False:\n",
        "      # total_Amount -= float(i['qty'])\n",
        "      cost -= float(i['qty']) * float(i['price'])\n",
        "\n",
        "  print(f'Asset: {asset}, Current Amount: {total_Amount}, Total Spend: {cost}, Average Entry Price: {cost / total_Amount}')\n",
        "  # Average Cost per coin = Total spend ÷ total number of coins owned\n",
        "  my_finance.append({'asset':asset, 'amount':total_Amount, 'cost':cost, 'avg_entry_price': cost / total_Amount})\n",
        "  time.sleep(1)\n",
        "\n",
        "print()\n",
        "pd.DataFrame(my_finance)"
      ],
      "execution_count": null,
      "outputs": []
    },
    {
      "cell_type": "code",
      "metadata": {
        "id": "ldjSB6m-mOtn"
      },
      "source": [
        "prices = client.get_all_tickers()\n",
        "# prices"
      ],
      "execution_count": 60,
      "outputs": []
    },
    {
      "cell_type": "code",
      "metadata": {
        "id": "XQq8i8DrEAfh"
      },
      "source": [
        "pnl_total = 0\n",
        "pnl_ = []\n",
        "for i in my_finance:\n",
        "  price = [x for x in prices if x['symbol'] == i['asset']+quote_currency][0]['price']\n",
        "  pnl = (float(price) - i['avg_entry_price']) /  i['avg_entry_price']\n",
        "  pnl_total += pnl\n",
        "  #pnl_.append({'asset':i['asset'], 'pnl %':pnl, 'pnl $': i['cost'] * pnl]})\n",
        "  pnl_.append({\n",
        "      'asset': i['asset'], \n",
        "      'pnl %': pnl, \n",
        "      'pnl $': i['cost'] * pnl,\n",
        "      'invested': i['cost'],\n",
        "      'avg_entry_price': i['avg_entry_price'],\n",
        "      'last_price' : price\n",
        "      })\n",
        "  print(f'Asset:{i[\"asset\"]}, PnL: {pnl}')\n",
        "\n",
        "print()\n",
        "print(f'Total PnL: {pnl_}')"
      ],
      "execution_count": null,
      "outputs": []
    },
    {
      "cell_type": "code",
      "metadata": {
        "id": "4_tMQZQxNh9G"
      },
      "source": [
        "df = pd.DataFrame(pnl_).round(3)\n",
        "df['pnl %'] = df['pnl %'] * 100\n",
        "df.sort_values(by='pnl %',ascending=False, inplace=True)\n",
        "df"
      ],
      "execution_count": null,
      "outputs": []
    },
    {
      "cell_type": "code",
      "metadata": {
        "id": "BTjHQ7PZhFR7"
      },
      "source": [
        "total_pnl = df['pnl $'].sum()\n",
        "total_pnl"
      ],
      "execution_count": null,
      "outputs": []
    }
  ]
}